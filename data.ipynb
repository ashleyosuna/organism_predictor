{
  "cells": [
    {
      "cell_type": "code",
      "execution_count": 23,
      "metadata": {},
      "outputs": [],
      "source": [
        "# IMPORT DEPENDENCIES\n",
        "import pandas as pd\n",
        "from Bio import Entrez, SeqIO\n",
        "\n",
        "Entrez.email = \"\"\n",
        "sequences = []"
      ]
    },
    {
      "cell_type": "code",
      "execution_count": 24,
      "metadata": {},
      "outputs": [
        {
          "name": "stdout",
          "output_type": "stream",
          "text": [
            "Error fetching record 1741143868\n"
          ]
        }
      ],
      "source": [
        "# FETCHING E COLI SEQUENCES\n",
        "handle = Entrez.esearch(\n",
        "    db=\"nucleotide\",\n",
        "    term=\"Escherichia coli[Organism] AND gene\",\n",
        "    retmax=200\n",
        ")\n",
        "\n",
        "record = Entrez.read(handle)\n",
        "ecoli_ids = record[\"IdList\"]\n",
        "\n",
        "# retrieving ecoli sequences\n",
        "for seq_id in ecoli_ids:\n",
        "    handle = Entrez.efetch(db=\"nucleotide\", id=seq_id, rettype=\"fasta\", retmode=\"text\")\n",
        "    try:\n",
        "        seq_record = SeqIO.read(handle, \"fasta\")\n",
        "        sequences.append((seq_record, \"Escherichia coli\"))\n",
        "    except:\n",
        "        print(f\"Error fetching record {seq_id}\")"
      ]
    },
    {
      "cell_type": "code",
      "execution_count": 25,
      "metadata": {},
      "outputs": [
        {
          "name": "stdout",
          "output_type": "stream",
          "text": [
            "Error fetching record 1852346650\n",
            "Error fetching record 1778705913\n",
            "Error fetching record 1778704861\n"
          ]
        }
      ],
      "source": [
        "# FETCHING STREP SEQUENCES\n",
        "handle = Entrez.esearch(\n",
        "    db=\"nucleotide\",\n",
        "    term=\"Streptomyces coelicolor[Organism] AND gene\",\n",
        "    retmax=200\n",
        ")\n",
        "\n",
        "record = Entrez.read(handle)\n",
        "strep_ids = record[\"IdList\"]\n",
        "\n",
        "# retrieving strep sequences\n",
        "for seq_id in strep_ids:\n",
        "    handle = Entrez.efetch(db=\"nucleotide\", id=seq_id, rettype=\"fasta\", retmode=\"text\")\n",
        "    try:\n",
        "        seq_record = SeqIO.read(handle, \"fasta\")\n",
        "        sequences.append((seq_record, \"Streptomyces coelicolor\"))\n",
        "    except:\n",
        "        print(f\"Error fetching record {seq_id}\")"
      ]
    },
    {
      "cell_type": "code",
      "execution_count": 26,
      "metadata": {},
      "outputs": [
        {
          "name": "stdout",
          "output_type": "stream",
          "text": [
            "Error fetching record 2810276184\n",
            "Error fetching record 2810266711\n",
            "Error fetching record 2810266392\n",
            "Error fetching record 2810266233\n",
            "Error fetching record 2810261109\n",
            "Error fetching record 2810260547\n"
          ]
        }
      ],
      "source": [
        "# FETCHING Bacillus subtilis SEQUENCES\n",
        "handle = Entrez.esearch(db=\"nucleotide\", term=\"Bacillus subtilis[Organism] AND gene\", retmax=200)\n",
        "\n",
        "record = Entrez.read(handle)\n",
        "bacillus_ids = record[\"IdList\"]\n",
        "\n",
        "for seq_id in bacillus_ids:\n",
        "    handle = Entrez.efetch(db=\"nucleotide\", id=seq_id, rettype=\"fasta\", retmode=\"text\")\n",
        "    try:\n",
        "        seq_record = SeqIO.read(handle, \"fasta\")\n",
        "        sequences.append((seq_record, \"Bacillus subtilis\"))\n",
        "    except:\n",
        "        print(f\"Error fetching record {seq_id}\")"
      ]
    },
    {
      "cell_type": "code",
      "execution_count": 27,
      "metadata": {},
      "outputs": [
        {
          "name": "stdout",
          "output_type": "stream",
          "text": [
            "Error fetching record 1268721759\n",
            "Error fetching record 1000884109\n",
            "Error fetching record 950547449\n"
          ]
        }
      ],
      "source": [
        "handle = Entrez.esearch(db=\"nucleotide\", term=\"Mycobacterium tuberculosis[Organism] AND gene\", retmax=200)\n",
        "\n",
        "record = Entrez.read(handle)\n",
        "tuberculosis_ids = record[\"IdList\"]\n",
        "\n",
        "for seq_id in tuberculosis_ids:\n",
        "    handle = Entrez.efetch(db=\"nucleotide\", id=seq_id, rettype=\"fasta\", retmode=\"text\")\n",
        "    try:\n",
        "        seq_record = SeqIO.read(handle, \"fasta\")\n",
        "        sequences.append((seq_record, \"Mycobacterium tuberculosis\"))\n",
        "    except:\n",
        "        print(f\"Error fetching record {seq_id}\")"
      ]
    },
    {
      "cell_type": "code",
      "execution_count": 28,
      "metadata": {},
      "outputs": [],
      "source": [
        "# Converting sequences into dataframes\n",
        "data = []\n",
        "\n",
        "for s in sequences:\n",
        "    seq_str = str(s[0].seq).upper()\n",
        "    length = len(seq_str)\n",
        "    if length > 0:\n",
        "        counts = {nuc: seq_str.count(nuc) / float(length) for nuc in \"ATCG\"}\n",
        "        gc = counts[\"G\"] + counts[\"C\"]\n",
        "        at = counts[\"A\"] + counts[\"T\"]\n",
        "        at_gc_ratio = at / gc if gc > 0 else 0\n",
        "        data.append({\"id\": s[0].id, \"gc_content\": gc, \"a_freq\": counts[\"A\"], \"c_freq\": counts[\"C\"], \"g_freq\": counts[\"G\"], \"t_freq\": counts[\"T\"], \"at_gc_ratio\": at_gc_ratio, \"seq_len\": length, \"label\": s[1]})\n",
        "\n",
        "df = pd.DataFrame(data)\n",
        "df.to_csv(\"sequences.csv\", index=False)"
      ]
    }
  ],
  "metadata": {
    "kernelspec": {
      "display_name": "Python 3",
      "language": "python",
      "name": "python3"
    },
    "language_info": {
      "codemirror_mode": {
        "name": "ipython",
        "version": 3
      },
      "file_extension": ".py",
      "mimetype": "text/x-python",
      "name": "python",
      "nbconvert_exporter": "python",
      "pygments_lexer": "ipython3",
      "version": "3.12.0"
    }
  },
  "nbformat": 4,
  "nbformat_minor": 2
}
